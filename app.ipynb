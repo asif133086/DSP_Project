{
 "cells": [
  {
   "cell_type": "code",
   "execution_count": null,
   "id": "e29e24cd-889a-4802-a2b3-583902939b41",
   "metadata": {},
   "outputs": [],
   "source": [
    "import streamlit as st\n",
    "import pickle\n",
    "import numpy as np\n",
    "import pandas as pd\n",
    "\n",
    "# List of available models\n",
    "models = {\n",
    "    \"Logistic Regression\": \"logistic_regression_model.pkl\",\n",
    "    \"Random Forest\": \"random_forest_model.pkl\",\n",
    "    \"Gradient Boosting\": \"gradient_boosting_model.pkl\",\n",
    "    \"Support Vector Machine\": \"support_vector_machine_model.pkl\",\n",
    "    \"K-Nearest Neighbors\": \"k_nearest_neighbors_model.pkl\",\n",
    "    \"Decision Tree\": \"decision_tree_model.pkl\",\n",
    "    \"Naive Bayes\": \"naive_bayes_model.pkl\"\n",
    "}\n",
    "\n",
    "# Load selected model\n",
    "selected_model = st.selectbox(\"Choose a model for prediction:\", list(models.keys()))\n",
    "with open(models[selected_model], 'rb') as file:\n",
    "    model = pickle.load(file)\n",
    "\n",
    "# Load scaler\n",
    "with open(\"scaler.pkl\", 'rb') as file:\n",
    "    scaler = pickle.load(file)\n",
    "\n",
    "# User input for required features\n",
    "age = st.number_input(\"Age\", min_value=1, max_value=120, value=50)\n",
    "sex = st.selectbox(\"Sex\", [\"Male\", \"Female\"])\n",
    "chest_pain = st.selectbox(\"Chest Pain Type\", [\"Typical Angina\", \"Atypical Angina\", \"Non-Anginal Pain\", \"Asymptomatic\"])\n",
    "resting_bp = st.number_input(\"Resting Blood Pressure\", min_value=80, max_value=200, value=120)\n",
    "cholesterol = st.number_input(\"Cholesterol Level\", min_value=100, max_value=400, value=200)\n",
    "fasting_bs = st.selectbox(\"Fasting Blood Sugar > 120 mg/dl\", [0, 1])\n",
    "resting_ecg = st.selectbox(\"Resting ECG\", [\"Normal\", \"ST\", \"LVH\"])\n",
    "max_hr = st.number_input(\"Maximum Heart Rate Achieved\", min_value=60, max_value=220, value=150)\n",
    "exercise_angina = st.selectbox(\"Exercise-Induced Angina\", [\"Yes\", \"No\"])\n",
    "oldpeak = st.number_input(\"Oldpeak (ST depression)\", min_value=0.0, max_value=10.0, value=1.0)\n",
    "st_slope = st.selectbox(\"ST Slope\", [\"Up\", \"Flat\", \"Down\"])\n",
    "\n",
    "# Convert categorical inputs into numerical format\n",
    "sex = 1 if sex == \"Male\" else 0\n",
    "chest_pain = {\"Typical Angina\": 0, \"Atypical Angina\": 1, \"Non-Anginal Pain\": 2, \"Asymptomatic\": 3}[chest_pain]\n",
    "resting_ecg = {\"Normal\": 0, \"ST\": 1, \"LVH\": 2}[resting_ecg]\n",
    "exercise_angina = 1 if exercise_angina == \"Yes\" else 0\n",
    "st_slope = {\"Up\": 0, \"Flat\": 1, \"Down\": 2}[st_slope]\n",
    "\n",
    "# Prepare input data for prediction\n",
    "input_data = np.array([[age, sex, chest_pain, resting_bp, cholesterol, fasting_bs, resting_ecg, max_hr, exercise_angina, oldpeak, st_slope]])\n",
    "input_data = scaler.transform(input_data)\n",
    "\n",
    "# Predict button\n",
    "if st.button(\"Predict\"):\n",
    "    prediction = model.predict(input_data)[0]\n",
    "    result = \"Heart Disease Detected 🛑\" if prediction == 1 else \"No Heart Disease ✅\"\n",
    "    st.write(f\"🔍 Prediction: **{result}**\")\n"
   ]
  }
 ],
 "metadata": {
  "kernelspec": {
   "display_name": "Python 3 (ipykernel)",
   "language": "python",
   "name": "python3"
  },
  "language_info": {
   "codemirror_mode": {
    "name": "ipython",
    "version": 3
   },
   "file_extension": ".py",
   "mimetype": "text/x-python",
   "name": "python",
   "nbconvert_exporter": "python",
   "pygments_lexer": "ipython3",
   "version": "3.12.3"
  }
 },
 "nbformat": 4,
 "nbformat_minor": 5
}
